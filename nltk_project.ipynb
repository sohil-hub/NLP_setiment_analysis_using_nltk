{
  "nbformat": 4,
  "nbformat_minor": 0,
  "metadata": {
    "colab": {
      "name": "nltk_project.ipynb",
      "provenance": [],
      "collapsed_sections": [],
      "toc_visible": true
    },
    "kernelspec": {
      "name": "python3",
      "display_name": "Python 3"
    },
    "language_info": {
      "name": "python"
    }
  },
  "cells": [
    {
      "cell_type": "markdown",
      "metadata": {
        "id": "w3gvIHosuIpG"
      },
      "source": [
        "# IMporting and downloading necessary libraries."
      ]
    },
    {
      "cell_type": "code",
      "metadata": {
        "id": "cw7TEXotgY3i"
      },
      "source": [
        "import matplotlib.pyplot as plt\n",
        "import nltk"
      ],
      "execution_count": 66,
      "outputs": []
    },
    {
      "cell_type": "code",
      "metadata": {
        "colab": {
          "base_uri": "https://localhost:8080/"
        },
        "id": "unkNzuRGixF-",
        "outputId": "348b9984-5529-4abe-d600-00e55e05fb73"
      },
      "source": [
        "nltk.download('stopwords')\n",
        "nltk.download('wordnet')"
      ],
      "execution_count": 67,
      "outputs": [
        {
          "output_type": "stream",
          "name": "stdout",
          "text": [
            "[nltk_data] Downloading package stopwords to /root/nltk_data...\n",
            "[nltk_data]   Package stopwords is already up-to-date!\n",
            "[nltk_data] Downloading package wordnet to /root/nltk_data...\n",
            "[nltk_data]   Package wordnet is already up-to-date!\n"
          ]
        },
        {
          "output_type": "execute_result",
          "data": {
            "text/plain": [
              "True"
            ]
          },
          "metadata": {},
          "execution_count": 67
        }
      ]
    },
    {
      "cell_type": "markdown",
      "metadata": {
        "id": "L6Ri-SwCuYzN"
      },
      "source": [
        "# Reading text file"
      ]
    },
    {
      "cell_type": "code",
      "metadata": {
        "colab": {
          "base_uri": "https://localhost:8080/"
        },
        "id": "stmBu4nhhYXG",
        "outputId": "51a54c31-f704-4562-99dd-570a23d22103"
      },
      "source": [
        "with open('text.txt', mode='r') as f:\n",
        "  text = f.read()\n",
        "print(text)"
      ],
      "execution_count": 68,
      "outputs": [
        {
          "output_type": "stream",
          "name": "stdout",
          "text": [
            "I am honored to be with you today at your commencement from one of the finest universities in the world. I never graduated from college. Truth be told, this is the closest I’ve ever gotten to a college graduation. Today I want to tell you three stories from my life. That’s it. No big deal. Just three stories.\n",
            "\n",
            "Related to this story\n",
            "2005 Stanford Commencement coverage\n",
            "The first story is about connecting the dots.\n",
            "\n",
            "I dropped out of Reed College after the first 6 months, but then stayed around as a drop-in for another 18 months or so before I really quit. So why did I drop out?\n",
            "\n",
            "It started before I was born. My biological mother was a young, unwed college graduate student, and she decided to put me up for adoption. She felt very strongly that I should be adopted by college graduates, so everything was all set for me to be adopted at birth by a lawyer and his wife. Except that when I popped out they decided at the last minute that they really wanted a girl. So my parents, who were on a waiting list, got a call in the middle of the night asking: “We have an unexpected baby boy; do you want him?” They said: “Of course.” My biological mother later found out that my mother had never graduated from college and that my father had never graduated from high school. She refused to sign the final adoption papers. She only relented a few months later when my parents promised that I would someday go to college.\n",
            "\n",
            "And 17 years later I did go to college. But I naively chose a college that was almost as expensive as Stanford, and all of my working-class parents’ savings were being spent on my college tuition. After six months, I couldn’t see the value in it. I had no idea what I wanted to do with my life and no idea how college was going to help me figure it out. And here I was spending all of the money my parents had saved their entire life. So I decided to drop out and trust that it would all work out OK. It was pretty scary at the time, but looking back it was one of the best decisions I ever made. The minute I dropped out I could stop taking the required classes that didn’t interest me, and begin dropping in on the ones that looked interesting.\n",
            "\n",
            "It wasn’t all romantic. I didn’t have a dorm room, so I slept on the floor in friends’ rooms, I returned Coke bottles for the 5¢ deposits to buy food with, and I would walk the 7 miles across town every Sunday night to get one good meal a week at the Hare Krishna temple. I loved it. And much of what I stumbled into by following my curiosity and intuition turned out to be priceless later on. Let me give you one example:\n",
            "\n",
            "Reed College at that time offered perhaps the best calligraphy instruction in the country. Throughout the campus every poster, every label on every drawer, was beautifully hand calligraphed. Because I had dropped out and didn’t have to take the normal classes, I decided to take a calligraphy class to learn how to do this. I learned about serif and sans serif typefaces, about varying the amount of space between different letter combinations, about what makes great typography great. It was beautiful, historical, artistically subtle in a way that science can’t capture, and I found it fascinating.\n",
            "\n",
            "None of this had even a hope of any practical application in my life. But 10 years later, when we were designing the first Macintosh computer, it all came back to me. And we designed it all into the Mac. It was the first computer with beautiful typography. If I had never dropped in on that single course in college, the Mac would have never had multiple typefaces or proportionally spaced fonts. And since Windows just copied the Mac, it’s likely that no personal computer would have them. If I had never dropped out, I would have never dropped in on this calligraphy class, and personal computers might not have the wonderful typography that they do. Of course it was impossible to connect the dots looking forward when I was in college. But it was very, very clear looking backward 10 years later.\n",
            "\n",
            "Again, you can’t connect the dots looking forward; you can only connect them looking backward. So you have to trust that the dots will somehow connect in your future. You have to trust in something — your gut, destiny, life, karma, whatever. This approach has never let me down, and it has made all the difference in my life.\n",
            "\n",
            "My second story is about love and loss.\n",
            "\n",
            "I was lucky — I found what I loved to do early in life. Woz and I started Apple in my parents’ garage when I was 20. We worked hard, and in 10 years Apple had grown from just the two of us in a garage into a $2 billion company with over 4,000 employees. We had just released our finest creation — the Macintosh — a year earlier, and I had just turned 30. And then I got fired. How can you get fired from a company you started? Well, as Apple grew we hired someone who I thought was very talented to run the company with me, and for the first year or so things went well. But then our visions of the future began to diverge and eventually we had a falling out. When we did, our Board of Directors sided with him. So at 30 I was out. And very publicly out. What had been the focus of my entire adult life was gone, and it was devastating.\n",
            "\n",
            "I really didn’t know what to do for a few months. I felt that I had let the previous generation of entrepreneurs down — that I had dropped the baton as it was being passed to me. I met with David Packard and Bob Noyce and tried to apologize for screwing up so badly. I was a very public failure, and I even thought about running away from the valley. But something slowly began to dawn on me — I still loved what I did. The turn of events at Apple had not changed that one bit. I had been rejected, but I was still in love. And so I decided to start over.\n",
            "\n",
            "I didn’t see it then, but it turned out that getting fired from Apple was the best thing that could have ever happened to me. The heaviness of being successful was replaced by the lightness of being a beginner again, less sure about everything. It freed me to enter one of the most creative periods of my life.\n",
            "\n",
            "During the next five years, I started a company named NeXT, another company named Pixar, and fell in love with an amazing woman who would become my wife. Pixar went on to create the world’s first computer animated feature film, Toy Story, and is now the most successful animation studio in the world. In a remarkable turn of events, Apple bought NeXT, I returned to Apple, and the technology we developed at NeXT is at the heart of Apple’s current renaissance. And Laurene and I have a wonderful family together.\n",
            "\n",
            "I’m pretty sure none of this would have happened if I hadn’t been fired from Apple. It was awful tasting medicine, but I guess the patient needed it. Sometimes life hits you in the head with a brick. Don’t lose faith. I’m convinced that the only thing that kept me going was that I loved what I did. You’ve got to find what you love. And that is as true for your work as it is for your lovers. Your work is going to fill a large part of your life, and the only way to be truly satisfied is to do what you believe is great work. And the only way to do great work is to love what you do. If you haven’t found it yet, keep looking. Don’t settle. As with all matters of the heart, you’ll know when you find it. And, like any great relationship, it just gets better and better as the years roll on. So keep looking until you find it. Don’t settle.\n",
            "\n",
            "My third story is about death.\n",
            "\n",
            "When I was 17, I read a quote that went something like: “If you live each day as if it was your last, someday you’ll most certainly be right.” It made an impression on me, and since then, for the past 33 years, I have looked in the mirror every morning and asked myself: “If today were the last day of my life, would I want to do what I am about to do today?” And whenever the answer has been “No” for too many days in a row, I know I need to change something.\n",
            "\n",
            "Remembering that I’ll be dead soon is the most important tool I’ve ever encountered to help me make the big choices in life. Because almost everything — all external expectations, all pride, all fear of embarrassment or failure — these things just fall away in the face of death, leaving only what is truly important. Remembering that you are going to die is the best way I know to avoid the trap of thinking you have something to lose. You are already naked. There is no reason not to follow your heart.\n",
            "\n",
            "About a year ago I was diagnosed with cancer. I had a scan at 7:30 in the morning, and it clearly showed a tumor on my pancreas. I didn’t even know what a pancreas was. The doctors told me this was almost certainly a type of cancer that is incurable, and that I should expect to live no longer than three to six months. My doctor advised me to go home and get my affairs in order, which is doctor’s code for prepare to die. It means to try to tell your kids everything you thought you’d have the next 10 years to tell them in just a few months. It means to make sure everything is buttoned up so that it will be as easy as possible for your family. It means to say your goodbyes.\n",
            "\n",
            "I lived with that diagnosis all day. Later that evening I had a biopsy, where they stuck an endoscope down my throat, through my stomach and into my intestines, put a needle into my pancreas and got a few cells from the tumor. I was sedated, but my wife, who was there, told me that when they viewed the cells under a microscope the doctors started crying because it turned out to be a very rare form of pancreatic cancer that is curable with surgery. I had the surgery and I’m fine now.\n",
            "\n",
            "This was the closest I’ve been to facing death, and I hope it’s the closest I get for a few more decades. Having lived through it, I can now say this to you with a bit more certainty than when death was a useful but purely intellectual concept:\n",
            "\n",
            "No one wants to die. Even people who want to go to heaven don’t want to die to get there. And yet death is the destination we all share. No one has ever escaped it. And that is as it should be, because Death is very likely the single best invention of Life. It is Life’s change agent. It clears out the old to make way for the new. Right now the new is you, but someday not too long from now, you will gradually become the old and be cleared away. Sorry to be so dramatic, but it is quite true.\n",
            "\n",
            "Your time is limited, so don’t waste it living someone else’s life. Don’t be trapped by dogma — which is living with the results of other people’s thinking. Don’t let the noise of others’ opinions drown out your own inner voice. And most important, have the courage to follow your heart and intuition. They somehow already know what you truly want to become. Everything else is secondary.\n",
            "\n",
            "When I was young, there was an amazing publication called The Whole Earth Catalog, which was one of the bibles of my generation. It was created by a fellow named Stewart Brand not far from here in Menlo Park, and he brought it to life with his poetic touch. This was in the late 1960s, before personal computers and desktop publishing, so it was all made with typewriters, scissors and Polaroid cameras. It was sort of like Google in paperback form, 35 years before Google came along: It was idealistic, and overflowing with neat tools and great notions.\n",
            "\n",
            "Stewart and his team put out several issues of The Whole Earth Catalog, and then when it had run its course, they put out a final issue. It was the mid-1970s, and I was your age. On the back cover of their final issue was a photograph of an early morning country road, the kind you might find yourself hitchhiking on if you were so adventurous. Beneath it were the words: “Stay Hungry. Stay Foolish.” It was their farewell message as they signed off. Stay Hungry. Stay Foolish. And I have always wished that for myself. And now, as you graduate to begin anew, I wish that for you.\n",
            "\n",
            "Stay Hungry. Stay Foolish.\n",
            "\n",
            "Thank you all very much.\n"
          ]
        }
      ]
    },
    {
      "cell_type": "markdown",
      "metadata": {
        "id": "zpQbNeHSueXj"
      },
      "source": [
        "#Tokenization + Punctuation removal"
      ]
    },
    {
      "cell_type": "code",
      "metadata": {
        "colab": {
          "base_uri": "https://localhost:8080/"
        },
        "id": "sw7saHIGhji9",
        "outputId": "3116fdee-85dc-4b35-a816-15367bc4ba72"
      },
      "source": [
        "from nltk.tokenize import RegexpTokenizer\n",
        "tokenizer = RegexpTokenizer(r'\\w+')\n",
        "tokenized_words = tokenizer.tokenize(text.lower())\n",
        "print(len(tokenized_words))\n",
        "print(tokenized_words)"
      ],
      "execution_count": 69,
      "outputs": [
        {
          "output_type": "stream",
          "name": "stdout",
          "text": [
            "2298\n",
            "['i', 'am', 'honored', 'to', 'be', 'with', 'you', 'today', 'at', 'your', 'commencement', 'from', 'one', 'of', 'the', 'finest', 'universities', 'in', 'the', 'world', 'i', 'never', 'graduated', 'from', 'college', 'truth', 'be', 'told', 'this', 'is', 'the', 'closest', 'i', 've', 'ever', 'gotten', 'to', 'a', 'college', 'graduation', 'today', 'i', 'want', 'to', 'tell', 'you', 'three', 'stories', 'from', 'my', 'life', 'that', 's', 'it', 'no', 'big', 'deal', 'just', 'three', 'stories', 'related', 'to', 'this', 'story', '2005', 'stanford', 'commencement', 'coverage', 'the', 'first', 'story', 'is', 'about', 'connecting', 'the', 'dots', 'i', 'dropped', 'out', 'of', 'reed', 'college', 'after', 'the', 'first', '6', 'months', 'but', 'then', 'stayed', 'around', 'as', 'a', 'drop', 'in', 'for', 'another', '18', 'months', 'or', 'so', 'before', 'i', 'really', 'quit', 'so', 'why', 'did', 'i', 'drop', 'out', 'it', 'started', 'before', 'i', 'was', 'born', 'my', 'biological', 'mother', 'was', 'a', 'young', 'unwed', 'college', 'graduate', 'student', 'and', 'she', 'decided', 'to', 'put', 'me', 'up', 'for', 'adoption', 'she', 'felt', 'very', 'strongly', 'that', 'i', 'should', 'be', 'adopted', 'by', 'college', 'graduates', 'so', 'everything', 'was', 'all', 'set', 'for', 'me', 'to', 'be', 'adopted', 'at', 'birth', 'by', 'a', 'lawyer', 'and', 'his', 'wife', 'except', 'that', 'when', 'i', 'popped', 'out', 'they', 'decided', 'at', 'the', 'last', 'minute', 'that', 'they', 'really', 'wanted', 'a', 'girl', 'so', 'my', 'parents', 'who', 'were', 'on', 'a', 'waiting', 'list', 'got', 'a', 'call', 'in', 'the', 'middle', 'of', 'the', 'night', 'asking', 'we', 'have', 'an', 'unexpected', 'baby', 'boy', 'do', 'you', 'want', 'him', 'they', 'said', 'of', 'course', 'my', 'biological', 'mother', 'later', 'found', 'out', 'that', 'my', 'mother', 'had', 'never', 'graduated', 'from', 'college', 'and', 'that', 'my', 'father', 'had', 'never', 'graduated', 'from', 'high', 'school', 'she', 'refused', 'to', 'sign', 'the', 'final', 'adoption', 'papers', 'she', 'only', 'relented', 'a', 'few', 'months', 'later', 'when', 'my', 'parents', 'promised', 'that', 'i', 'would', 'someday', 'go', 'to', 'college', 'and', '17', 'years', 'later', 'i', 'did', 'go', 'to', 'college', 'but', 'i', 'naively', 'chose', 'a', 'college', 'that', 'was', 'almost', 'as', 'expensive', 'as', 'stanford', 'and', 'all', 'of', 'my', 'working', 'class', 'parents', 'savings', 'were', 'being', 'spent', 'on', 'my', 'college', 'tuition', 'after', 'six', 'months', 'i', 'couldn', 't', 'see', 'the', 'value', 'in', 'it', 'i', 'had', 'no', 'idea', 'what', 'i', 'wanted', 'to', 'do', 'with', 'my', 'life', 'and', 'no', 'idea', 'how', 'college', 'was', 'going', 'to', 'help', 'me', 'figure', 'it', 'out', 'and', 'here', 'i', 'was', 'spending', 'all', 'of', 'the', 'money', 'my', 'parents', 'had', 'saved', 'their', 'entire', 'life', 'so', 'i', 'decided', 'to', 'drop', 'out', 'and', 'trust', 'that', 'it', 'would', 'all', 'work', 'out', 'ok', 'it', 'was', 'pretty', 'scary', 'at', 'the', 'time', 'but', 'looking', 'back', 'it', 'was', 'one', 'of', 'the', 'best', 'decisions', 'i', 'ever', 'made', 'the', 'minute', 'i', 'dropped', 'out', 'i', 'could', 'stop', 'taking', 'the', 'required', 'classes', 'that', 'didn', 't', 'interest', 'me', 'and', 'begin', 'dropping', 'in', 'on', 'the', 'ones', 'that', 'looked', 'interesting', 'it', 'wasn', 't', 'all', 'romantic', 'i', 'didn', 't', 'have', 'a', 'dorm', 'room', 'so', 'i', 'slept', 'on', 'the', 'floor', 'in', 'friends', 'rooms', 'i', 'returned', 'coke', 'bottles', 'for', 'the', '5', 'deposits', 'to', 'buy', 'food', 'with', 'and', 'i', 'would', 'walk', 'the', '7', 'miles', 'across', 'town', 'every', 'sunday', 'night', 'to', 'get', 'one', 'good', 'meal', 'a', 'week', 'at', 'the', 'hare', 'krishna', 'temple', 'i', 'loved', 'it', 'and', 'much', 'of', 'what', 'i', 'stumbled', 'into', 'by', 'following', 'my', 'curiosity', 'and', 'intuition', 'turned', 'out', 'to', 'be', 'priceless', 'later', 'on', 'let', 'me', 'give', 'you', 'one', 'example', 'reed', 'college', 'at', 'that', 'time', 'offered', 'perhaps', 'the', 'best', 'calligraphy', 'instruction', 'in', 'the', 'country', 'throughout', 'the', 'campus', 'every', 'poster', 'every', 'label', 'on', 'every', 'drawer', 'was', 'beautifully', 'hand', 'calligraphed', 'because', 'i', 'had', 'dropped', 'out', 'and', 'didn', 't', 'have', 'to', 'take', 'the', 'normal', 'classes', 'i', 'decided', 'to', 'take', 'a', 'calligraphy', 'class', 'to', 'learn', 'how', 'to', 'do', 'this', 'i', 'learned', 'about', 'serif', 'and', 'sans', 'serif', 'typefaces', 'about', 'varying', 'the', 'amount', 'of', 'space', 'between', 'different', 'letter', 'combinations', 'about', 'what', 'makes', 'great', 'typography', 'great', 'it', 'was', 'beautiful', 'historical', 'artistically', 'subtle', 'in', 'a', 'way', 'that', 'science', 'can', 't', 'capture', 'and', 'i', 'found', 'it', 'fascinating', 'none', 'of', 'this', 'had', 'even', 'a', 'hope', 'of', 'any', 'practical', 'application', 'in', 'my', 'life', 'but', '10', 'years', 'later', 'when', 'we', 'were', 'designing', 'the', 'first', 'macintosh', 'computer', 'it', 'all', 'came', 'back', 'to', 'me', 'and', 'we', 'designed', 'it', 'all', 'into', 'the', 'mac', 'it', 'was', 'the', 'first', 'computer', 'with', 'beautiful', 'typography', 'if', 'i', 'had', 'never', 'dropped', 'in', 'on', 'that', 'single', 'course', 'in', 'college', 'the', 'mac', 'would', 'have', 'never', 'had', 'multiple', 'typefaces', 'or', 'proportionally', 'spaced', 'fonts', 'and', 'since', 'windows', 'just', 'copied', 'the', 'mac', 'it', 's', 'likely', 'that', 'no', 'personal', 'computer', 'would', 'have', 'them', 'if', 'i', 'had', 'never', 'dropped', 'out', 'i', 'would', 'have', 'never', 'dropped', 'in', 'on', 'this', 'calligraphy', 'class', 'and', 'personal', 'computers', 'might', 'not', 'have', 'the', 'wonderful', 'typography', 'that', 'they', 'do', 'of', 'course', 'it', 'was', 'impossible', 'to', 'connect', 'the', 'dots', 'looking', 'forward', 'when', 'i', 'was', 'in', 'college', 'but', 'it', 'was', 'very', 'very', 'clear', 'looking', 'backward', '10', 'years', 'later', 'again', 'you', 'can', 't', 'connect', 'the', 'dots', 'looking', 'forward', 'you', 'can', 'only', 'connect', 'them', 'looking', 'backward', 'so', 'you', 'have', 'to', 'trust', 'that', 'the', 'dots', 'will', 'somehow', 'connect', 'in', 'your', 'future', 'you', 'have', 'to', 'trust', 'in', 'something', 'your', 'gut', 'destiny', 'life', 'karma', 'whatever', 'this', 'approach', 'has', 'never', 'let', 'me', 'down', 'and', 'it', 'has', 'made', 'all', 'the', 'difference', 'in', 'my', 'life', 'my', 'second', 'story', 'is', 'about', 'love', 'and', 'loss', 'i', 'was', 'lucky', 'i', 'found', 'what', 'i', 'loved', 'to', 'do', 'early', 'in', 'life', 'woz', 'and', 'i', 'started', 'apple', 'in', 'my', 'parents', 'garage', 'when', 'i', 'was', '20', 'we', 'worked', 'hard', 'and', 'in', '10', 'years', 'apple', 'had', 'grown', 'from', 'just', 'the', 'two', 'of', 'us', 'in', 'a', 'garage', 'into', 'a', '2', 'billion', 'company', 'with', 'over', '4', '000', 'employees', 'we', 'had', 'just', 'released', 'our', 'finest', 'creation', 'the', 'macintosh', 'a', 'year', 'earlier', 'and', 'i', 'had', 'just', 'turned', '30', 'and', 'then', 'i', 'got', 'fired', 'how', 'can', 'you', 'get', 'fired', 'from', 'a', 'company', 'you', 'started', 'well', 'as', 'apple', 'grew', 'we', 'hired', 'someone', 'who', 'i', 'thought', 'was', 'very', 'talented', 'to', 'run', 'the', 'company', 'with', 'me', 'and', 'for', 'the', 'first', 'year', 'or', 'so', 'things', 'went', 'well', 'but', 'then', 'our', 'visions', 'of', 'the', 'future', 'began', 'to', 'diverge', 'and', 'eventually', 'we', 'had', 'a', 'falling', 'out', 'when', 'we', 'did', 'our', 'board', 'of', 'directors', 'sided', 'with', 'him', 'so', 'at', '30', 'i', 'was', 'out', 'and', 'very', 'publicly', 'out', 'what', 'had', 'been', 'the', 'focus', 'of', 'my', 'entire', 'adult', 'life', 'was', 'gone', 'and', 'it', 'was', 'devastating', 'i', 'really', 'didn', 't', 'know', 'what', 'to', 'do', 'for', 'a', 'few', 'months', 'i', 'felt', 'that', 'i', 'had', 'let', 'the', 'previous', 'generation', 'of', 'entrepreneurs', 'down', 'that', 'i', 'had', 'dropped', 'the', 'baton', 'as', 'it', 'was', 'being', 'passed', 'to', 'me', 'i', 'met', 'with', 'david', 'packard', 'and', 'bob', 'noyce', 'and', 'tried', 'to', 'apologize', 'for', 'screwing', 'up', 'so', 'badly', 'i', 'was', 'a', 'very', 'public', 'failure', 'and', 'i', 'even', 'thought', 'about', 'running', 'away', 'from', 'the', 'valley', 'but', 'something', 'slowly', 'began', 'to', 'dawn', 'on', 'me', 'i', 'still', 'loved', 'what', 'i', 'did', 'the', 'turn', 'of', 'events', 'at', 'apple', 'had', 'not', 'changed', 'that', 'one', 'bit', 'i', 'had', 'been', 'rejected', 'but', 'i', 'was', 'still', 'in', 'love', 'and', 'so', 'i', 'decided', 'to', 'start', 'over', 'i', 'didn', 't', 'see', 'it', 'then', 'but', 'it', 'turned', 'out', 'that', 'getting', 'fired', 'from', 'apple', 'was', 'the', 'best', 'thing', 'that', 'could', 'have', 'ever', 'happened', 'to', 'me', 'the', 'heaviness', 'of', 'being', 'successful', 'was', 'replaced', 'by', 'the', 'lightness', 'of', 'being', 'a', 'beginner', 'again', 'less', 'sure', 'about', 'everything', 'it', 'freed', 'me', 'to', 'enter', 'one', 'of', 'the', 'most', 'creative', 'periods', 'of', 'my', 'life', 'during', 'the', 'next', 'five', 'years', 'i', 'started', 'a', 'company', 'named', 'next', 'another', 'company', 'named', 'pixar', 'and', 'fell', 'in', 'love', 'with', 'an', 'amazing', 'woman', 'who', 'would', 'become', 'my', 'wife', 'pixar', 'went', 'on', 'to', 'create', 'the', 'world', 's', 'first', 'computer', 'animated', 'feature', 'film', 'toy', 'story', 'and', 'is', 'now', 'the', 'most', 'successful', 'animation', 'studio', 'in', 'the', 'world', 'in', 'a', 'remarkable', 'turn', 'of', 'events', 'apple', 'bought', 'next', 'i', 'returned', 'to', 'apple', 'and', 'the', 'technology', 'we', 'developed', 'at', 'next', 'is', 'at', 'the', 'heart', 'of', 'apple', 's', 'current', 'renaissance', 'and', 'laurene', 'and', 'i', 'have', 'a', 'wonderful', 'family', 'together', 'i', 'm', 'pretty', 'sure', 'none', 'of', 'this', 'would', 'have', 'happened', 'if', 'i', 'hadn', 't', 'been', 'fired', 'from', 'apple', 'it', 'was', 'awful', 'tasting', 'medicine', 'but', 'i', 'guess', 'the', 'patient', 'needed', 'it', 'sometimes', 'life', 'hits', 'you', 'in', 'the', 'head', 'with', 'a', 'brick', 'don', 't', 'lose', 'faith', 'i', 'm', 'convinced', 'that', 'the', 'only', 'thing', 'that', 'kept', 'me', 'going', 'was', 'that', 'i', 'loved', 'what', 'i', 'did', 'you', 've', 'got', 'to', 'find', 'what', 'you', 'love', 'and', 'that', 'is', 'as', 'true', 'for', 'your', 'work', 'as', 'it', 'is', 'for', 'your', 'lovers', 'your', 'work', 'is', 'going', 'to', 'fill', 'a', 'large', 'part', 'of', 'your', 'life', 'and', 'the', 'only', 'way', 'to', 'be', 'truly', 'satisfied', 'is', 'to', 'do', 'what', 'you', 'believe', 'is', 'great', 'work', 'and', 'the', 'only', 'way', 'to', 'do', 'great', 'work', 'is', 'to', 'love', 'what', 'you', 'do', 'if', 'you', 'haven', 't', 'found', 'it', 'yet', 'keep', 'looking', 'don', 't', 'settle', 'as', 'with', 'all', 'matters', 'of', 'the', 'heart', 'you', 'll', 'know', 'when', 'you', 'find', 'it', 'and', 'like', 'any', 'great', 'relationship', 'it', 'just', 'gets', 'better', 'and', 'better', 'as', 'the', 'years', 'roll', 'on', 'so', 'keep', 'looking', 'until', 'you', 'find', 'it', 'don', 't', 'settle', 'my', 'third', 'story', 'is', 'about', 'death', 'when', 'i', 'was', '17', 'i', 'read', 'a', 'quote', 'that', 'went', 'something', 'like', 'if', 'you', 'live', 'each', 'day', 'as', 'if', 'it', 'was', 'your', 'last', 'someday', 'you', 'll', 'most', 'certainly', 'be', 'right', 'it', 'made', 'an', 'impression', 'on', 'me', 'and', 'since', 'then', 'for', 'the', 'past', '33', 'years', 'i', 'have', 'looked', 'in', 'the', 'mirror', 'every', 'morning', 'and', 'asked', 'myself', 'if', 'today', 'were', 'the', 'last', 'day', 'of', 'my', 'life', 'would', 'i', 'want', 'to', 'do', 'what', 'i', 'am', 'about', 'to', 'do', 'today', 'and', 'whenever', 'the', 'answer', 'has', 'been', 'no', 'for', 'too', 'many', 'days', 'in', 'a', 'row', 'i', 'know', 'i', 'need', 'to', 'change', 'something', 'remembering', 'that', 'i', 'll', 'be', 'dead', 'soon', 'is', 'the', 'most', 'important', 'tool', 'i', 've', 'ever', 'encountered', 'to', 'help', 'me', 'make', 'the', 'big', 'choices', 'in', 'life', 'because', 'almost', 'everything', 'all', 'external', 'expectations', 'all', 'pride', 'all', 'fear', 'of', 'embarrassment', 'or', 'failure', 'these', 'things', 'just', 'fall', 'away', 'in', 'the', 'face', 'of', 'death', 'leaving', 'only', 'what', 'is', 'truly', 'important', 'remembering', 'that', 'you', 'are', 'going', 'to', 'die', 'is', 'the', 'best', 'way', 'i', 'know', 'to', 'avoid', 'the', 'trap', 'of', 'thinking', 'you', 'have', 'something', 'to', 'lose', 'you', 'are', 'already', 'naked', 'there', 'is', 'no', 'reason', 'not', 'to', 'follow', 'your', 'heart', 'about', 'a', 'year', 'ago', 'i', 'was', 'diagnosed', 'with', 'cancer', 'i', 'had', 'a', 'scan', 'at', '7', '30', 'in', 'the', 'morning', 'and', 'it', 'clearly', 'showed', 'a', 'tumor', 'on', 'my', 'pancreas', 'i', 'didn', 't', 'even', 'know', 'what', 'a', 'pancreas', 'was', 'the', 'doctors', 'told', 'me', 'this', 'was', 'almost', 'certainly', 'a', 'type', 'of', 'cancer', 'that', 'is', 'incurable', 'and', 'that', 'i', 'should', 'expect', 'to', 'live', 'no', 'longer', 'than', 'three', 'to', 'six', 'months', 'my', 'doctor', 'advised', 'me', 'to', 'go', 'home', 'and', 'get', 'my', 'affairs', 'in', 'order', 'which', 'is', 'doctor', 's', 'code', 'for', 'prepare', 'to', 'die', 'it', 'means', 'to', 'try', 'to', 'tell', 'your', 'kids', 'everything', 'you', 'thought', 'you', 'd', 'have', 'the', 'next', '10', 'years', 'to', 'tell', 'them', 'in', 'just', 'a', 'few', 'months', 'it', 'means', 'to', 'make', 'sure', 'everything', 'is', 'buttoned', 'up', 'so', 'that', 'it', 'will', 'be', 'as', 'easy', 'as', 'possible', 'for', 'your', 'family', 'it', 'means', 'to', 'say', 'your', 'goodbyes', 'i', 'lived', 'with', 'that', 'diagnosis', 'all', 'day', 'later', 'that', 'evening', 'i', 'had', 'a', 'biopsy', 'where', 'they', 'stuck', 'an', 'endoscope', 'down', 'my', 'throat', 'through', 'my', 'stomach', 'and', 'into', 'my', 'intestines', 'put', 'a', 'needle', 'into', 'my', 'pancreas', 'and', 'got', 'a', 'few', 'cells', 'from', 'the', 'tumor', 'i', 'was', 'sedated', 'but', 'my', 'wife', 'who', 'was', 'there', 'told', 'me', 'that', 'when', 'they', 'viewed', 'the', 'cells', 'under', 'a', 'microscope', 'the', 'doctors', 'started', 'crying', 'because', 'it', 'turned', 'out', 'to', 'be', 'a', 'very', 'rare', 'form', 'of', 'pancreatic', 'cancer', 'that', 'is', 'curable', 'with', 'surgery', 'i', 'had', 'the', 'surgery', 'and', 'i', 'm', 'fine', 'now', 'this', 'was', 'the', 'closest', 'i', 've', 'been', 'to', 'facing', 'death', 'and', 'i', 'hope', 'it', 's', 'the', 'closest', 'i', 'get', 'for', 'a', 'few', 'more', 'decades', 'having', 'lived', 'through', 'it', 'i', 'can', 'now', 'say', 'this', 'to', 'you', 'with', 'a', 'bit', 'more', 'certainty', 'than', 'when', 'death', 'was', 'a', 'useful', 'but', 'purely', 'intellectual', 'concept', 'no', 'one', 'wants', 'to', 'die', 'even', 'people', 'who', 'want', 'to', 'go', 'to', 'heaven', 'don', 't', 'want', 'to', 'die', 'to', 'get', 'there', 'and', 'yet', 'death', 'is', 'the', 'destination', 'we', 'all', 'share', 'no', 'one', 'has', 'ever', 'escaped', 'it', 'and', 'that', 'is', 'as', 'it', 'should', 'be', 'because', 'death', 'is', 'very', 'likely', 'the', 'single', 'best', 'invention', 'of', 'life', 'it', 'is', 'life', 's', 'change', 'agent', 'it', 'clears', 'out', 'the', 'old', 'to', 'make', 'way', 'for', 'the', 'new', 'right', 'now', 'the', 'new', 'is', 'you', 'but', 'someday', 'not', 'too', 'long', 'from', 'now', 'you', 'will', 'gradually', 'become', 'the', 'old', 'and', 'be', 'cleared', 'away', 'sorry', 'to', 'be', 'so', 'dramatic', 'but', 'it', 'is', 'quite', 'true', 'your', 'time', 'is', 'limited', 'so', 'don', 't', 'waste', 'it', 'living', 'someone', 'else', 's', 'life', 'don', 't', 'be', 'trapped', 'by', 'dogma', 'which', 'is', 'living', 'with', 'the', 'results', 'of', 'other', 'people', 's', 'thinking', 'don', 't', 'let', 'the', 'noise', 'of', 'others', 'opinions', 'drown', 'out', 'your', 'own', 'inner', 'voice', 'and', 'most', 'important', 'have', 'the', 'courage', 'to', 'follow', 'your', 'heart', 'and', 'intuition', 'they', 'somehow', 'already', 'know', 'what', 'you', 'truly', 'want', 'to', 'become', 'everything', 'else', 'is', 'secondary', 'when', 'i', 'was', 'young', 'there', 'was', 'an', 'amazing', 'publication', 'called', 'the', 'whole', 'earth', 'catalog', 'which', 'was', 'one', 'of', 'the', 'bibles', 'of', 'my', 'generation', 'it', 'was', 'created', 'by', 'a', 'fellow', 'named', 'stewart', 'brand', 'not', 'far', 'from', 'here', 'in', 'menlo', 'park', 'and', 'he', 'brought', 'it', 'to', 'life', 'with', 'his', 'poetic', 'touch', 'this', 'was', 'in', 'the', 'late', '1960s', 'before', 'personal', 'computers', 'and', 'desktop', 'publishing', 'so', 'it', 'was', 'all', 'made', 'with', 'typewriters', 'scissors', 'and', 'polaroid', 'cameras', 'it', 'was', 'sort', 'of', 'like', 'google', 'in', 'paperback', 'form', '35', 'years', 'before', 'google', 'came', 'along', 'it', 'was', 'idealistic', 'and', 'overflowing', 'with', 'neat', 'tools', 'and', 'great', 'notions', 'stewart', 'and', 'his', 'team', 'put', 'out', 'several', 'issues', 'of', 'the', 'whole', 'earth', 'catalog', 'and', 'then', 'when', 'it', 'had', 'run', 'its', 'course', 'they', 'put', 'out', 'a', 'final', 'issue', 'it', 'was', 'the', 'mid', '1970s', 'and', 'i', 'was', 'your', 'age', 'on', 'the', 'back', 'cover', 'of', 'their', 'final', 'issue', 'was', 'a', 'photograph', 'of', 'an', 'early', 'morning', 'country', 'road', 'the', 'kind', 'you', 'might', 'find', 'yourself', 'hitchhiking', 'on', 'if', 'you', 'were', 'so', 'adventurous', 'beneath', 'it', 'were', 'the', 'words', 'stay', 'hungry', 'stay', 'foolish', 'it', 'was', 'their', 'farewell', 'message', 'as', 'they', 'signed', 'off', 'stay', 'hungry', 'stay', 'foolish', 'and', 'i', 'have', 'always', 'wished', 'that', 'for', 'myself', 'and', 'now', 'as', 'you', 'graduate', 'to', 'begin', 'anew', 'i', 'wish', 'that', 'for', 'you', 'stay', 'hungry', 'stay', 'foolish', 'thank', 'you', 'all', 'very', 'much']\n"
          ]
        }
      ]
    },
    {
      "cell_type": "markdown",
      "metadata": {
        "id": "dYZt4sbsunWR"
      },
      "source": [
        "#Stopwords removal + lemmatization"
      ]
    },
    {
      "cell_type": "code",
      "metadata": {
        "colab": {
          "base_uri": "https://localhost:8080/"
        },
        "id": "WvsHv4X5iAqr",
        "outputId": "8716859d-b67a-4795-e9f0-494d94292a41"
      },
      "source": [
        "from nltk.corpus import stopwords\n",
        "stop_words = stopwords.words('english')\n",
        "words_without_stopwords = [word for word in tokenized_words if word not in stop_words]\n",
        "print(len(words_without_stopwords))\n",
        "print(words_without_stopwords)"
      ],
      "execution_count": 70,
      "outputs": [
        {
          "output_type": "stream",
          "name": "stdout",
          "text": [
            "1022\n",
            "['honored', 'today', 'commencement', 'one', 'finest', 'universities', 'world', 'never', 'graduated', 'college', 'truth', 'told', 'closest', 'ever', 'gotten', 'college', 'graduation', 'today', 'want', 'tell', 'three', 'stories', 'life', 'big', 'deal', 'three', 'stories', 'related', 'story', '2005', 'stanford', 'commencement', 'coverage', 'first', 'story', 'connecting', 'dots', 'dropped', 'reed', 'college', 'first', '6', 'months', 'stayed', 'around', 'drop', 'another', '18', 'months', 'really', 'quit', 'drop', 'started', 'born', 'biological', 'mother', 'young', 'unwed', 'college', 'graduate', 'student', 'decided', 'put', 'adoption', 'felt', 'strongly', 'adopted', 'college', 'graduates', 'everything', 'set', 'adopted', 'birth', 'lawyer', 'wife', 'except', 'popped', 'decided', 'last', 'minute', 'really', 'wanted', 'girl', 'parents', 'waiting', 'list', 'got', 'call', 'middle', 'night', 'asking', 'unexpected', 'baby', 'boy', 'want', 'said', 'course', 'biological', 'mother', 'later', 'found', 'mother', 'never', 'graduated', 'college', 'father', 'never', 'graduated', 'high', 'school', 'refused', 'sign', 'final', 'adoption', 'papers', 'relented', 'months', 'later', 'parents', 'promised', 'would', 'someday', 'go', 'college', '17', 'years', 'later', 'go', 'college', 'naively', 'chose', 'college', 'almost', 'expensive', 'stanford', 'working', 'class', 'parents', 'savings', 'spent', 'college', 'tuition', 'six', 'months', 'see', 'value', 'idea', 'wanted', 'life', 'idea', 'college', 'going', 'help', 'figure', 'spending', 'money', 'parents', 'saved', 'entire', 'life', 'decided', 'drop', 'trust', 'would', 'work', 'ok', 'pretty', 'scary', 'time', 'looking', 'back', 'one', 'best', 'decisions', 'ever', 'made', 'minute', 'dropped', 'could', 'stop', 'taking', 'required', 'classes', 'interest', 'begin', 'dropping', 'ones', 'looked', 'interesting', 'romantic', 'dorm', 'room', 'slept', 'floor', 'friends', 'rooms', 'returned', 'coke', 'bottles', '5', 'deposits', 'buy', 'food', 'would', 'walk', '7', 'miles', 'across', 'town', 'every', 'sunday', 'night', 'get', 'one', 'good', 'meal', 'week', 'hare', 'krishna', 'temple', 'loved', 'much', 'stumbled', 'following', 'curiosity', 'intuition', 'turned', 'priceless', 'later', 'let', 'give', 'one', 'example', 'reed', 'college', 'time', 'offered', 'perhaps', 'best', 'calligraphy', 'instruction', 'country', 'throughout', 'campus', 'every', 'poster', 'every', 'label', 'every', 'drawer', 'beautifully', 'hand', 'calligraphed', 'dropped', 'take', 'normal', 'classes', 'decided', 'take', 'calligraphy', 'class', 'learn', 'learned', 'serif', 'sans', 'serif', 'typefaces', 'varying', 'amount', 'space', 'different', 'letter', 'combinations', 'makes', 'great', 'typography', 'great', 'beautiful', 'historical', 'artistically', 'subtle', 'way', 'science', 'capture', 'found', 'fascinating', 'none', 'even', 'hope', 'practical', 'application', 'life', '10', 'years', 'later', 'designing', 'first', 'macintosh', 'computer', 'came', 'back', 'designed', 'mac', 'first', 'computer', 'beautiful', 'typography', 'never', 'dropped', 'single', 'course', 'college', 'mac', 'would', 'never', 'multiple', 'typefaces', 'proportionally', 'spaced', 'fonts', 'since', 'windows', 'copied', 'mac', 'likely', 'personal', 'computer', 'would', 'never', 'dropped', 'would', 'never', 'dropped', 'calligraphy', 'class', 'personal', 'computers', 'might', 'wonderful', 'typography', 'course', 'impossible', 'connect', 'dots', 'looking', 'forward', 'college', 'clear', 'looking', 'backward', '10', 'years', 'later', 'connect', 'dots', 'looking', 'forward', 'connect', 'looking', 'backward', 'trust', 'dots', 'somehow', 'connect', 'future', 'trust', 'something', 'gut', 'destiny', 'life', 'karma', 'whatever', 'approach', 'never', 'let', 'made', 'difference', 'life', 'second', 'story', 'love', 'loss', 'lucky', 'found', 'loved', 'early', 'life', 'woz', 'started', 'apple', 'parents', 'garage', '20', 'worked', 'hard', '10', 'years', 'apple', 'grown', 'two', 'us', 'garage', '2', 'billion', 'company', '4', '000', 'employees', 'released', 'finest', 'creation', 'macintosh', 'year', 'earlier', 'turned', '30', 'got', 'fired', 'get', 'fired', 'company', 'started', 'well', 'apple', 'grew', 'hired', 'someone', 'thought', 'talented', 'run', 'company', 'first', 'year', 'things', 'went', 'well', 'visions', 'future', 'began', 'diverge', 'eventually', 'falling', 'board', 'directors', 'sided', '30', 'publicly', 'focus', 'entire', 'adult', 'life', 'gone', 'devastating', 'really', 'know', 'months', 'felt', 'let', 'previous', 'generation', 'entrepreneurs', 'dropped', 'baton', 'passed', 'met', 'david', 'packard', 'bob', 'noyce', 'tried', 'apologize', 'screwing', 'badly', 'public', 'failure', 'even', 'thought', 'running', 'away', 'valley', 'something', 'slowly', 'began', 'dawn', 'still', 'loved', 'turn', 'events', 'apple', 'changed', 'one', 'bit', 'rejected', 'still', 'love', 'decided', 'start', 'see', 'turned', 'getting', 'fired', 'apple', 'best', 'thing', 'could', 'ever', 'happened', 'heaviness', 'successful', 'replaced', 'lightness', 'beginner', 'less', 'sure', 'everything', 'freed', 'enter', 'one', 'creative', 'periods', 'life', 'next', 'five', 'years', 'started', 'company', 'named', 'next', 'another', 'company', 'named', 'pixar', 'fell', 'love', 'amazing', 'woman', 'would', 'become', 'wife', 'pixar', 'went', 'create', 'world', 'first', 'computer', 'animated', 'feature', 'film', 'toy', 'story', 'successful', 'animation', 'studio', 'world', 'remarkable', 'turn', 'events', 'apple', 'bought', 'next', 'returned', 'apple', 'technology', 'developed', 'next', 'heart', 'apple', 'current', 'renaissance', 'laurene', 'wonderful', 'family', 'together', 'pretty', 'sure', 'none', 'would', 'happened', 'fired', 'apple', 'awful', 'tasting', 'medicine', 'guess', 'patient', 'needed', 'sometimes', 'life', 'hits', 'head', 'brick', 'lose', 'faith', 'convinced', 'thing', 'kept', 'going', 'loved', 'got', 'find', 'love', 'true', 'work', 'lovers', 'work', 'going', 'fill', 'large', 'part', 'life', 'way', 'truly', 'satisfied', 'believe', 'great', 'work', 'way', 'great', 'work', 'love', 'found', 'yet', 'keep', 'looking', 'settle', 'matters', 'heart', 'know', 'find', 'like', 'great', 'relationship', 'gets', 'better', 'better', 'years', 'roll', 'keep', 'looking', 'find', 'settle', 'third', 'story', 'death', '17', 'read', 'quote', 'went', 'something', 'like', 'live', 'day', 'last', 'someday', 'certainly', 'right', 'made', 'impression', 'since', 'past', '33', 'years', 'looked', 'mirror', 'every', 'morning', 'asked', 'today', 'last', 'day', 'life', 'would', 'want', 'today', 'whenever', 'answer', 'many', 'days', 'row', 'know', 'need', 'change', 'something', 'remembering', 'dead', 'soon', 'important', 'tool', 'ever', 'encountered', 'help', 'make', 'big', 'choices', 'life', 'almost', 'everything', 'external', 'expectations', 'pride', 'fear', 'embarrassment', 'failure', 'things', 'fall', 'away', 'face', 'death', 'leaving', 'truly', 'important', 'remembering', 'going', 'die', 'best', 'way', 'know', 'avoid', 'trap', 'thinking', 'something', 'lose', 'already', 'naked', 'reason', 'follow', 'heart', 'year', 'ago', 'diagnosed', 'cancer', 'scan', '7', '30', 'morning', 'clearly', 'showed', 'tumor', 'pancreas', 'even', 'know', 'pancreas', 'doctors', 'told', 'almost', 'certainly', 'type', 'cancer', 'incurable', 'expect', 'live', 'longer', 'three', 'six', 'months', 'doctor', 'advised', 'go', 'home', 'get', 'affairs', 'order', 'doctor', 'code', 'prepare', 'die', 'means', 'try', 'tell', 'kids', 'everything', 'thought', 'next', '10', 'years', 'tell', 'months', 'means', 'make', 'sure', 'everything', 'buttoned', 'easy', 'possible', 'family', 'means', 'say', 'goodbyes', 'lived', 'diagnosis', 'day', 'later', 'evening', 'biopsy', 'stuck', 'endoscope', 'throat', 'stomach', 'intestines', 'put', 'needle', 'pancreas', 'got', 'cells', 'tumor', 'sedated', 'wife', 'told', 'viewed', 'cells', 'microscope', 'doctors', 'started', 'crying', 'turned', 'rare', 'form', 'pancreatic', 'cancer', 'curable', 'surgery', 'surgery', 'fine', 'closest', 'facing', 'death', 'hope', 'closest', 'get', 'decades', 'lived', 'say', 'bit', 'certainty', 'death', 'useful', 'purely', 'intellectual', 'concept', 'one', 'wants', 'die', 'even', 'people', 'want', 'go', 'heaven', 'want', 'die', 'get', 'yet', 'death', 'destination', 'share', 'one', 'ever', 'escaped', 'death', 'likely', 'single', 'best', 'invention', 'life', 'life', 'change', 'agent', 'clears', 'old', 'make', 'way', 'new', 'right', 'new', 'someday', 'long', 'gradually', 'become', 'old', 'cleared', 'away', 'sorry', 'dramatic', 'quite', 'true', 'time', 'limited', 'waste', 'living', 'someone', 'else', 'life', 'trapped', 'dogma', 'living', 'results', 'people', 'thinking', 'let', 'noise', 'others', 'opinions', 'drown', 'inner', 'voice', 'important', 'courage', 'follow', 'heart', 'intuition', 'somehow', 'already', 'know', 'truly', 'want', 'become', 'everything', 'else', 'secondary', 'young', 'amazing', 'publication', 'called', 'whole', 'earth', 'catalog', 'one', 'bibles', 'generation', 'created', 'fellow', 'named', 'stewart', 'brand', 'far', 'menlo', 'park', 'brought', 'life', 'poetic', 'touch', 'late', '1960s', 'personal', 'computers', 'desktop', 'publishing', 'made', 'typewriters', 'scissors', 'polaroid', 'cameras', 'sort', 'like', 'google', 'paperback', 'form', '35', 'years', 'google', 'came', 'along', 'idealistic', 'overflowing', 'neat', 'tools', 'great', 'notions', 'stewart', 'team', 'put', 'several', 'issues', 'whole', 'earth', 'catalog', 'run', 'course', 'put', 'final', 'issue', 'mid', '1970s', 'age', 'back', 'cover', 'final', 'issue', 'photograph', 'early', 'morning', 'country', 'road', 'kind', 'might', 'find', 'hitchhiking', 'adventurous', 'beneath', 'words', 'stay', 'hungry', 'stay', 'foolish', 'farewell', 'message', 'signed', 'stay', 'hungry', 'stay', 'foolish', 'always', 'wished', 'graduate', 'begin', 'anew', 'wish', 'stay', 'hungry', 'stay', 'foolish', 'thank', 'much']\n"
          ]
        }
      ]
    },
    {
      "cell_type": "code",
      "metadata": {
        "colab": {
          "base_uri": "https://localhost:8080/"
        },
        "id": "04-8Gac3iWoY",
        "outputId": "443186d6-8dd3-496f-ad36-2c6ff824d9e4"
      },
      "source": [
        "from nltk.stem import WordNetLemmatizer\n",
        "lemmatized_words = [WordNetLemmatizer().lemmatize(word) for word in words_without_stopwords]\n",
        "print(len(lemmatized_words))\n",
        "print(lemmatized_words)"
      ],
      "execution_count": 71,
      "outputs": [
        {
          "output_type": "stream",
          "name": "stdout",
          "text": [
            "1022\n",
            "['honored', 'today', 'commencement', 'one', 'finest', 'university', 'world', 'never', 'graduated', 'college', 'truth', 'told', 'closest', 'ever', 'gotten', 'college', 'graduation', 'today', 'want', 'tell', 'three', 'story', 'life', 'big', 'deal', 'three', 'story', 'related', 'story', '2005', 'stanford', 'commencement', 'coverage', 'first', 'story', 'connecting', 'dot', 'dropped', 'reed', 'college', 'first', '6', 'month', 'stayed', 'around', 'drop', 'another', '18', 'month', 'really', 'quit', 'drop', 'started', 'born', 'biological', 'mother', 'young', 'unwed', 'college', 'graduate', 'student', 'decided', 'put', 'adoption', 'felt', 'strongly', 'adopted', 'college', 'graduate', 'everything', 'set', 'adopted', 'birth', 'lawyer', 'wife', 'except', 'popped', 'decided', 'last', 'minute', 'really', 'wanted', 'girl', 'parent', 'waiting', 'list', 'got', 'call', 'middle', 'night', 'asking', 'unexpected', 'baby', 'boy', 'want', 'said', 'course', 'biological', 'mother', 'later', 'found', 'mother', 'never', 'graduated', 'college', 'father', 'never', 'graduated', 'high', 'school', 'refused', 'sign', 'final', 'adoption', 'paper', 'relented', 'month', 'later', 'parent', 'promised', 'would', 'someday', 'go', 'college', '17', 'year', 'later', 'go', 'college', 'naively', 'chose', 'college', 'almost', 'expensive', 'stanford', 'working', 'class', 'parent', 'saving', 'spent', 'college', 'tuition', 'six', 'month', 'see', 'value', 'idea', 'wanted', 'life', 'idea', 'college', 'going', 'help', 'figure', 'spending', 'money', 'parent', 'saved', 'entire', 'life', 'decided', 'drop', 'trust', 'would', 'work', 'ok', 'pretty', 'scary', 'time', 'looking', 'back', 'one', 'best', 'decision', 'ever', 'made', 'minute', 'dropped', 'could', 'stop', 'taking', 'required', 'class', 'interest', 'begin', 'dropping', 'one', 'looked', 'interesting', 'romantic', 'dorm', 'room', 'slept', 'floor', 'friend', 'room', 'returned', 'coke', 'bottle', '5', 'deposit', 'buy', 'food', 'would', 'walk', '7', 'mile', 'across', 'town', 'every', 'sunday', 'night', 'get', 'one', 'good', 'meal', 'week', 'hare', 'krishna', 'temple', 'loved', 'much', 'stumbled', 'following', 'curiosity', 'intuition', 'turned', 'priceless', 'later', 'let', 'give', 'one', 'example', 'reed', 'college', 'time', 'offered', 'perhaps', 'best', 'calligraphy', 'instruction', 'country', 'throughout', 'campus', 'every', 'poster', 'every', 'label', 'every', 'drawer', 'beautifully', 'hand', 'calligraphed', 'dropped', 'take', 'normal', 'class', 'decided', 'take', 'calligraphy', 'class', 'learn', 'learned', 'serif', 'sans', 'serif', 'typeface', 'varying', 'amount', 'space', 'different', 'letter', 'combination', 'make', 'great', 'typography', 'great', 'beautiful', 'historical', 'artistically', 'subtle', 'way', 'science', 'capture', 'found', 'fascinating', 'none', 'even', 'hope', 'practical', 'application', 'life', '10', 'year', 'later', 'designing', 'first', 'macintosh', 'computer', 'came', 'back', 'designed', 'mac', 'first', 'computer', 'beautiful', 'typography', 'never', 'dropped', 'single', 'course', 'college', 'mac', 'would', 'never', 'multiple', 'typeface', 'proportionally', 'spaced', 'font', 'since', 'window', 'copied', 'mac', 'likely', 'personal', 'computer', 'would', 'never', 'dropped', 'would', 'never', 'dropped', 'calligraphy', 'class', 'personal', 'computer', 'might', 'wonderful', 'typography', 'course', 'impossible', 'connect', 'dot', 'looking', 'forward', 'college', 'clear', 'looking', 'backward', '10', 'year', 'later', 'connect', 'dot', 'looking', 'forward', 'connect', 'looking', 'backward', 'trust', 'dot', 'somehow', 'connect', 'future', 'trust', 'something', 'gut', 'destiny', 'life', 'karma', 'whatever', 'approach', 'never', 'let', 'made', 'difference', 'life', 'second', 'story', 'love', 'loss', 'lucky', 'found', 'loved', 'early', 'life', 'woz', 'started', 'apple', 'parent', 'garage', '20', 'worked', 'hard', '10', 'year', 'apple', 'grown', 'two', 'u', 'garage', '2', 'billion', 'company', '4', '000', 'employee', 'released', 'finest', 'creation', 'macintosh', 'year', 'earlier', 'turned', '30', 'got', 'fired', 'get', 'fired', 'company', 'started', 'well', 'apple', 'grew', 'hired', 'someone', 'thought', 'talented', 'run', 'company', 'first', 'year', 'thing', 'went', 'well', 'vision', 'future', 'began', 'diverge', 'eventually', 'falling', 'board', 'director', 'sided', '30', 'publicly', 'focus', 'entire', 'adult', 'life', 'gone', 'devastating', 'really', 'know', 'month', 'felt', 'let', 'previous', 'generation', 'entrepreneur', 'dropped', 'baton', 'passed', 'met', 'david', 'packard', 'bob', 'noyce', 'tried', 'apologize', 'screwing', 'badly', 'public', 'failure', 'even', 'thought', 'running', 'away', 'valley', 'something', 'slowly', 'began', 'dawn', 'still', 'loved', 'turn', 'event', 'apple', 'changed', 'one', 'bit', 'rejected', 'still', 'love', 'decided', 'start', 'see', 'turned', 'getting', 'fired', 'apple', 'best', 'thing', 'could', 'ever', 'happened', 'heaviness', 'successful', 'replaced', 'lightness', 'beginner', 'le', 'sure', 'everything', 'freed', 'enter', 'one', 'creative', 'period', 'life', 'next', 'five', 'year', 'started', 'company', 'named', 'next', 'another', 'company', 'named', 'pixar', 'fell', 'love', 'amazing', 'woman', 'would', 'become', 'wife', 'pixar', 'went', 'create', 'world', 'first', 'computer', 'animated', 'feature', 'film', 'toy', 'story', 'successful', 'animation', 'studio', 'world', 'remarkable', 'turn', 'event', 'apple', 'bought', 'next', 'returned', 'apple', 'technology', 'developed', 'next', 'heart', 'apple', 'current', 'renaissance', 'laurene', 'wonderful', 'family', 'together', 'pretty', 'sure', 'none', 'would', 'happened', 'fired', 'apple', 'awful', 'tasting', 'medicine', 'guess', 'patient', 'needed', 'sometimes', 'life', 'hit', 'head', 'brick', 'lose', 'faith', 'convinced', 'thing', 'kept', 'going', 'loved', 'got', 'find', 'love', 'true', 'work', 'lover', 'work', 'going', 'fill', 'large', 'part', 'life', 'way', 'truly', 'satisfied', 'believe', 'great', 'work', 'way', 'great', 'work', 'love', 'found', 'yet', 'keep', 'looking', 'settle', 'matter', 'heart', 'know', 'find', 'like', 'great', 'relationship', 'get', 'better', 'better', 'year', 'roll', 'keep', 'looking', 'find', 'settle', 'third', 'story', 'death', '17', 'read', 'quote', 'went', 'something', 'like', 'live', 'day', 'last', 'someday', 'certainly', 'right', 'made', 'impression', 'since', 'past', '33', 'year', 'looked', 'mirror', 'every', 'morning', 'asked', 'today', 'last', 'day', 'life', 'would', 'want', 'today', 'whenever', 'answer', 'many', 'day', 'row', 'know', 'need', 'change', 'something', 'remembering', 'dead', 'soon', 'important', 'tool', 'ever', 'encountered', 'help', 'make', 'big', 'choice', 'life', 'almost', 'everything', 'external', 'expectation', 'pride', 'fear', 'embarrassment', 'failure', 'thing', 'fall', 'away', 'face', 'death', 'leaving', 'truly', 'important', 'remembering', 'going', 'die', 'best', 'way', 'know', 'avoid', 'trap', 'thinking', 'something', 'lose', 'already', 'naked', 'reason', 'follow', 'heart', 'year', 'ago', 'diagnosed', 'cancer', 'scan', '7', '30', 'morning', 'clearly', 'showed', 'tumor', 'pancreas', 'even', 'know', 'pancreas', 'doctor', 'told', 'almost', 'certainly', 'type', 'cancer', 'incurable', 'expect', 'live', 'longer', 'three', 'six', 'month', 'doctor', 'advised', 'go', 'home', 'get', 'affair', 'order', 'doctor', 'code', 'prepare', 'die', 'mean', 'try', 'tell', 'kid', 'everything', 'thought', 'next', '10', 'year', 'tell', 'month', 'mean', 'make', 'sure', 'everything', 'buttoned', 'easy', 'possible', 'family', 'mean', 'say', 'goodbye', 'lived', 'diagnosis', 'day', 'later', 'evening', 'biopsy', 'stuck', 'endoscope', 'throat', 'stomach', 'intestine', 'put', 'needle', 'pancreas', 'got', 'cell', 'tumor', 'sedated', 'wife', 'told', 'viewed', 'cell', 'microscope', 'doctor', 'started', 'cry', 'turned', 'rare', 'form', 'pancreatic', 'cancer', 'curable', 'surgery', 'surgery', 'fine', 'closest', 'facing', 'death', 'hope', 'closest', 'get', 'decade', 'lived', 'say', 'bit', 'certainty', 'death', 'useful', 'purely', 'intellectual', 'concept', 'one', 'want', 'die', 'even', 'people', 'want', 'go', 'heaven', 'want', 'die', 'get', 'yet', 'death', 'destination', 'share', 'one', 'ever', 'escaped', 'death', 'likely', 'single', 'best', 'invention', 'life', 'life', 'change', 'agent', 'clear', 'old', 'make', 'way', 'new', 'right', 'new', 'someday', 'long', 'gradually', 'become', 'old', 'cleared', 'away', 'sorry', 'dramatic', 'quite', 'true', 'time', 'limited', 'waste', 'living', 'someone', 'else', 'life', 'trapped', 'dogma', 'living', 'result', 'people', 'thinking', 'let', 'noise', 'others', 'opinion', 'drown', 'inner', 'voice', 'important', 'courage', 'follow', 'heart', 'intuition', 'somehow', 'already', 'know', 'truly', 'want', 'become', 'everything', 'else', 'secondary', 'young', 'amazing', 'publication', 'called', 'whole', 'earth', 'catalog', 'one', 'bible', 'generation', 'created', 'fellow', 'named', 'stewart', 'brand', 'far', 'menlo', 'park', 'brought', 'life', 'poetic', 'touch', 'late', '1960s', 'personal', 'computer', 'desktop', 'publishing', 'made', 'typewriter', 'scissors', 'polaroid', 'camera', 'sort', 'like', 'google', 'paperback', 'form', '35', 'year', 'google', 'came', 'along', 'idealistic', 'overflowing', 'neat', 'tool', 'great', 'notion', 'stewart', 'team', 'put', 'several', 'issue', 'whole', 'earth', 'catalog', 'run', 'course', 'put', 'final', 'issue', 'mid', '1970s', 'age', 'back', 'cover', 'final', 'issue', 'photograph', 'early', 'morning', 'country', 'road', 'kind', 'might', 'find', 'hitchhiking', 'adventurous', 'beneath', 'word', 'stay', 'hungry', 'stay', 'foolish', 'farewell', 'message', 'signed', 'stay', 'hungry', 'stay', 'foolish', 'always', 'wished', 'graduate', 'begin', 'anew', 'wish', 'stay', 'hungry', 'stay', 'foolish', 'thank', 'much']\n"
          ]
        }
      ]
    },
    {
      "cell_type": "markdown",
      "metadata": {
        "id": "2OXHqMz_utyh"
      },
      "source": [
        "#Add founded emotions in the list"
      ]
    },
    {
      "cell_type": "code",
      "metadata": {
        "colab": {
          "base_uri": "https://localhost:8080/"
        },
        "id": "PBESK30jjhMb",
        "outputId": "5ce346a3-efbe-44db-b275-1ce03f3f77e2"
      },
      "source": [
        "emotion_list = []\n",
        "with open('emotion_list.txt', mode='r') as f:\n",
        "  for line in f:\n",
        "    cleaned_line = line.replace(\"\\n\", \"\").replace(\",\", \"\").replace(\"'\", \"\").strip()\n",
        "    word, emotion = cleaned_line.split(':')\n",
        "\n",
        "    if word in lemmatized_words:\n",
        "      emotion_list.append(emotion)\n",
        "\n",
        "print(emotion_list)"
      ],
      "execution_count": 72,
      "outputs": [
        {
          "output_type": "stream",
          "name": "stdout",
          "text": [
            "[' happy', ' happy', ' attached', ' happy', ' attracted', ' alone', ' free', ' hated', ' happy', ' entitled', ' happy', ' loved', ' hated', ' entitled']\n"
          ]
        }
      ]
    },
    {
      "cell_type": "markdown",
      "metadata": {
        "id": "hQK0xq-Xu1oS"
      },
      "source": [
        "#Count frequency of each emotion"
      ]
    },
    {
      "cell_type": "code",
      "metadata": {
        "colab": {
          "base_uri": "https://localhost:8080/"
        },
        "id": "BddkffMgmBbC",
        "outputId": "8258e4af-d510-4068-cf9a-0a10bf7c72bd"
      },
      "source": [
        "from nltk.probability import FreqDist\n",
        "w = FreqDist()\n",
        "for emotion in emotion_list:\n",
        "  w[emotion] += 1\n",
        "w"
      ],
      "execution_count": 73,
      "outputs": [
        {
          "output_type": "execute_result",
          "data": {
            "text/plain": [
              "FreqDist({' alone': 1,\n",
              "          ' attached': 1,\n",
              "          ' attracted': 1,\n",
              "          ' entitled': 2,\n",
              "          ' free': 1,\n",
              "          ' happy': 5,\n",
              "          ' hated': 2,\n",
              "          ' loved': 1})"
            ]
          },
          "metadata": {},
          "execution_count": 73
        }
      ]
    },
    {
      "cell_type": "markdown",
      "metadata": {
        "id": "gJpYoJ7iu8-k"
      },
      "source": [
        "#Visualize emotions"
      ]
    },
    {
      "cell_type": "code",
      "metadata": {
        "colab": {
          "base_uri": "https://localhost:8080/",
          "height": 267
        },
        "id": "IRj6JakfnDDm",
        "outputId": "42d0a598-9f9a-4a3e-c50b-6929731d48f6"
      },
      "source": [
        "fig, ax1 = plt.subplots()\n",
        "ax1.bar(w.keys(), w.values())\n",
        "fig.autofmt_xdate()\n",
        "plt.savefig('graph.png')\n",
        "plt.show()"
      ],
      "execution_count": 74,
      "outputs": [
        {
          "output_type": "display_data",
          "data": {
            "image/png": "[encoded data removed]",
            "text/plain": [
              "<Figure size 432x288 with 1 Axes>"
            ]
          },
          "metadata": {
            "needs_background": "light"
          }
        }
      ]
    },
    {
      "cell_type": "code",
      "metadata": {
        "id": "lPz5WNHMrXWj"
      },
      "source": [
        ""
      ],
      "execution_count": 74,
      "outputs": []
    }
  ]
}